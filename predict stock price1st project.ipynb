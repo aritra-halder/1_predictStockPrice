{
  "nbformat": 4,
  "nbformat_minor": 0,
  "metadata": {
    "colab": {
      "name": "Untitled0.ipynb",
      "provenance": [],
      "collapsed_sections": []
    },
    "kernelspec": {
      "name": "python3",
      "display_name": "Python 3"
    },
    "language_info": {
      "name": "python"
    }
  },
  "cells": [
    {
      "cell_type": "code",
      "execution_count": 76,
      "metadata": {
        "id": "QM04Kk3Bikwf"
      },
      "outputs": [],
      "source": [
        "#build a stock prediction program\n",
        
      ]
    },
    {
      "cell_type": "code",
      "source": [
        "pip install quandl\n"
      ],
      "metadata": {
        "colab": {
          "base_uri": "https://localhost:8080/"
        },
        "id": "digDIKBsiy5U",
        "outputId": "0b1c523f-f734-4788-83a9-2b854fc35235"
      },
      "execution_count": 77,
      "outputs": [
        {
          "output_type": "stream",
          "name": "stdout",
          "text": [
            "Requirement already satisfied: quandl in /usr/local/lib/python3.7/dist-packages (3.7.0)\n",
            "Requirement already satisfied: pandas>=0.14 in /usr/local/lib/python3.7/dist-packages (from quandl) (1.3.5)\n",
            "Requirement already satisfied: python-dateutil in /usr/local/lib/python3.7/dist-packages (from quandl) (2.8.2)\n",
            "Requirement already satisfied: requests>=2.7.0 in /usr/local/lib/python3.7/dist-packages (from quandl) (2.23.0)\n",
            "Requirement already satisfied: numpy>=1.8 in /usr/local/lib/python3.7/dist-packages (from quandl) (1.21.5)\n",
            "Requirement already satisfied: six in /usr/local/lib/python3.7/dist-packages (from quandl) (1.15.0)\n",
            "Requirement already satisfied: more-itertools in /usr/local/lib/python3.7/dist-packages (from quandl) (8.12.0)\n",
            "Requirement already satisfied: inflection>=0.3.1 in /usr/local/lib/python3.7/dist-packages (from quandl) (0.5.1)\n",
            "Requirement already satisfied: pytz>=2017.3 in /usr/local/lib/python3.7/dist-packages (from pandas>=0.14->quandl) (2018.9)\n",
            "Requirement already satisfied: chardet<4,>=3.0.2 in /usr/local/lib/python3.7/dist-packages (from requests>=2.7.0->quandl) (3.0.4)\n",
            "Requirement already satisfied: idna<3,>=2.5 in /usr/local/lib/python3.7/dist-packages (from requests>=2.7.0->quandl) (2.10)\n",
            "Requirement already satisfied: urllib3!=1.25.0,!=1.25.1,<1.26,>=1.21.1 in /usr/local/lib/python3.7/dist-packages (from requests>=2.7.0->quandl) (1.24.3)\n",
            "Requirement already satisfied: certifi>=2017.4.17 in /usr/local/lib/python3.7/dist-packages (from requests>=2.7.0->quandl) (2021.10.8)\n"
          ]
        }
      ]
    },
    {
      "cell_type": "code",
      "source": [
        "#this program prediction stock prices by using ML models\n",
        "#install the dependencies\n",
        "import quandl\n",
        "import numpy as np\n",
        "from sklearn.linear_model import LinearRegression\n",
        "from sklearn.svm import SVR\n",
        "from sklearn.model_selection import train_test_split"
      ],
      "metadata": {
        "id": "26Qsk2sZjUTE"
      },
      "execution_count": 78,
      "outputs": []
    },
    {
      "cell_type": "code",
      "source": [
        "#get the stock DAta\n",
        "df = quandl.get(\"WIKI/TSLA\")\n",
        "#take a look at data\n",
        "print(df.head())"
      ],
      "metadata": {
        "colab": {
          "base_uri": "https://localhost:8080/"
        },
        "id": "IasA_eIEj_zv",
        "outputId": "570c1f04-64d0-4dfd-da67-e8b2b6e9a2c6"
      },
      "execution_count": 79,
      "outputs": [
        {
          "output_type": "stream",
          "name": "stdout",
          "text": [
            "             Open     High    Low  Close      Volume  Ex-Dividend  \\\n",
            "Date                                                                \n",
            "2010-06-29  19.00  25.0000  17.54  23.89  18766300.0          0.0   \n",
            "2010-06-30  25.79  30.4192  23.30  23.83  17187100.0          0.0   \n",
            "2010-07-01  25.00  25.9200  20.27  21.96   8218800.0          0.0   \n",
            "2010-07-02  23.00  23.1000  18.71  19.20   5139800.0          0.0   \n",
            "2010-07-06  20.00  20.0000  15.83  16.11   6866900.0          0.0   \n",
            "\n",
            "            Split Ratio  Adj. Open  Adj. High  Adj. Low  Adj. Close  \\\n",
            "Date                                                                  \n",
            "2010-06-29          1.0      19.00    25.0000     17.54       23.89   \n",
            "2010-06-30          1.0      25.79    30.4192     23.30       23.83   \n",
            "2010-07-01          1.0      25.00    25.9200     20.27       21.96   \n",
            "2010-07-02          1.0      23.00    23.1000     18.71       19.20   \n",
            "2010-07-06          1.0      20.00    20.0000     15.83       16.11   \n",
            "\n",
            "            Adj. Volume  \n",
            "Date                     \n",
            "2010-06-29   18766300.0  \n",
            "2010-06-30   17187100.0  \n",
            "2010-07-01    8218800.0  \n",
            "2010-07-02    5139800.0  \n",
            "2010-07-06    6866900.0  \n"
          ]
        }
      ]
    },
    {
      "cell_type": "code",
      "source": [
        ""
      ],
      "metadata": {
        "id": "zPkt956DuTDu"
      },
      "execution_count": 79,
      "outputs": []
    },
    {
      "cell_type": "code",
      "source": [
        "# Get the adjusted Close Price\n",
        "df = df[['Adj. Close']]\n",
        "#take a look at the new data\n",
        "print(df.head())"
      ],
      "metadata": {
        "colab": {
          "base_uri": "https://localhost:8080/"
        },
        "id": "itL4Q5N-kpbq",
        "outputId": "810dc706-a021-4006-edf3-17d88260f4f1"
      },
      "execution_count": 80,
      "outputs": [
        {
          "output_type": "stream",
          "name": "stdout",
          "text": [
            "            Adj. Close\n",
            "Date                  \n",
            "2010-06-29       23.89\n",
            "2010-06-30       23.83\n",
            "2010-07-01       21.96\n",
            "2010-07-02       19.20\n",
            "2010-07-06       16.11\n"
          ]
        }
      ]
    },
    {
      "cell_type": "code",
      "source": [
        "#A varible for predicting 'n' days out into future\n",
        "forcast_out = 30\n",
        "# Create another coloum(target or dependent variable) shifted 'n' units up\n",
        "df['Prediction'] = df[['Adj. Close']].shift(-forcast_out)\n",
        "#print new data set\n",
        "print(df.tail())"
      ],
      "metadata": {
        "colab": {
          "base_uri": "https://localhost:8080/"
        },
        "id": "_DtX6IgJrOzB",
        "outputId": "8a8caa79-b9b6-41bb-b9b0-0594412bfc19"
      },
      "execution_count": 81,
      "outputs": [
        {
          "output_type": "stream",
          "name": "stdout",
          "text": [
            "            Adj. Close  Prediction\n",
            "Date                              \n",
            "2018-03-21      316.53         NaN\n",
            "2018-03-22      309.10         NaN\n",
            "2018-03-23      301.54         NaN\n",
            "2018-03-26      304.18         NaN\n",
            "2018-03-27      279.18         NaN\n"
          ]
        }
      ]
    },
    {
      "cell_type": "code",
      "source": [
        "### Crete the independent data set (X) ####3\n",
        "# Convert the dat frame to a numpy array\n",
        "X = np.array(df.drop(['Prediction'],1))\n",
        "#Remove the last 'n' rows \n",
        "X = X[:-forcast_out]\n",
        "print(X)"
      ],
      "metadata": {
        "colab": {
          "base_uri": "https://localhost:8080/"
        },
        "id": "8qYzzGfouUSr",
        "outputId": "d8ca8ff4-4ad2-49c3-e564-90445e93aaf1"
      },
      "execution_count": 82,
      "outputs": [
        {
          "output_type": "stream",
          "name": "stdout",
          "text": [
            "[[ 23.89]\n",
            " [ 23.83]\n",
            " [ 21.96]\n",
            " ...\n",
            " [315.36]\n",
            " [310.11]\n",
            " [315.73]]\n"
          ]
        },
        {
          "output_type": "stream",
          "name": "stderr",
          "text": [
            "/usr/local/lib/python3.7/dist-packages/ipykernel_launcher.py:3: FutureWarning: In a future version of pandas all arguments of DataFrame.drop except for the argument 'labels' will be keyword-only\n",
            "  This is separate from the ipykernel package so we can avoid doing imports until\n"
          ]
        }
      ]
    },
    {
      "cell_type": "code",
      "source": [
        "#create the dependent data set(y)  ####\n",
        "# covert the dataframe to a numpy array(All of the values including the Nan's)\n",
        "y = np.array(df['Prediction']) \n",
        "#get allof the y values except the last 'n' rows\n",
        "y = y[:-forcast_out]\n",
        "print(y)"
      ],
      "metadata": {
        "colab": {
          "base_uri": "https://localhost:8080/"
        },
        "id": "Z35hOv85ygG6",
        "outputId": "a6823301-f357-4028-fee1-9dfd4eb11907"
      },
      "execution_count": 83,
      "outputs": [
        {
          "output_type": "stream",
          "name": "stdout",
          "text": [
            "[ 17.9   17.6   18.32 ... 301.54 304.18 279.18]\n"
          ]
        }
      ]
    },
    {
      "cell_type": "code",
      "source": [
        "#split the data into 80% traning and 20% traning\n",
        "x_train, x_test, y_train, y_test = train_test_split(X,y, test_size=0.2)"
      ],
      "metadata": {
        "id": "PoGh2Nvu2yKY"
      },
      "execution_count": 84,
      "outputs": []
    },
    {
      "cell_type": "code",
      "source": [
        "#create and train our model : support vector machinr(regressor)\n",
        "svr_rbf = SVR(kernel='rbf', C=1e3, gamma=0.1)\n",
        "svr_rbf.fit(x_train, y_train)"
      ],
      "metadata": {
        "colab": {
          "base_uri": "https://localhost:8080/"
        },
        "id": "XEa4zrm83a-6",
        "outputId": "fbcef34d-4f91-4814-f74c-d47e9c155547"
      },
      "execution_count": 85,
      "outputs": [
        {
          "output_type": "execute_result",
          "data": {
            "text/plain": [
              "SVR(C=1000.0, gamma=0.1)"
            ]
          },
          "metadata": {},
          "execution_count": 85
        }
      ]
    },
    {
      "cell_type": "code",
      "source": [
        "#testing model: Score return thr coefficient of determinatin R^2 of tehthe prediction.\n",
        "# best possible score id 1.0\n",
        "svm_confidence = svr_rbf.score(x_test, y_test) \n",
        "print(\"svm confidence: \", svm_confidence)"
      ],
      "metadata": {
        "colab": {
          "base_uri": "https://localhost:8080/"
        },
        "id": "tUDrCMCu4_LX",
        "outputId": "4fd665c6-26e9-48ba-8a2d-39c0f712c130"
      },
      "execution_count": 86,
      "outputs": [
        {
          "output_type": "stream",
          "name": "stdout",
          "text": [
            "svm confidence:  0.9515324823718405\n"
          ]
        }
      ]
    },
    {
      "cell_type": "code",
      "source": [
        "#Create and train the Linear Regression Mode\n",
        "lr = LinearRegression()\n",
        "#train the model\n",
        "lr.fit(x_train, y_train)"
      ],
      "metadata": {
        "colab": {
          "base_uri": "https://localhost:8080/"
        },
        "id": "wsJDUn6_5_qs",
        "outputId": "c38d88f6-9741-43c1-e043-44cc105e3591"
      },
      "execution_count": 87,
      "outputs": [
        {
          "output_type": "execute_result",
          "data": {
            "text/plain": [
              "LinearRegression()"
            ]
          },
          "metadata": {},
          "execution_count": 87
        }
      ]
    },
    {
      "cell_type": "code",
      "source": [
        "#testing model: Score return thr coefficient of determinatin R^2 of tehthe prediction.\n",
        "# best possible score id 1.0\n",
        "lr_confidence = lr.score(x_test, y_test) \n",
        "print(\"lr confidence: \", lr_confidence)"
      ],
      "metadata": {
        "colab": {
          "base_uri": "https://localhost:8080/"
        },
        "id": "Rb0lJi0H_xzb",
        "outputId": "8c0b61a8-05c3-47b7-cb52-f90ac8d23892"
      },
      "execution_count": 88,
      "outputs": [
        {
          "output_type": "stream",
          "name": "stdout",
          "text": [
            "lr confidence:  0.9475939107680631\n"
          ]
        }
      ]
    },
    {
      "cell_type": "code",
      "source": [
        "# set x_forcast equal to last 30 rows of the original data set from Adj. Close column\n",
        "x_forcast = np.array(df.drop(['Prediction'],1))[-forcast_out:]\n",
        "print(x_forcast)"
      ],
      "metadata": {
        "colab": {
          "base_uri": "https://localhost:8080/"
        },
        "id": "mxYKjG_BABBl",
        "outputId": "7ba9fa76-c1a3-4c75-8d76-290b1ada5166"
      },
      "execution_count": 89,
      "outputs": [
        {
          "output_type": "stream",
          "name": "stdout",
          "text": [
            "[[323.66 ]\n",
            " [322.31 ]\n",
            " [334.065]\n",
            " [335.49 ]\n",
            " [334.77 ]\n",
            " [333.3  ]\n",
            " [346.17 ]\n",
            " [352.05 ]\n",
            " [357.42 ]\n",
            " [350.99 ]\n",
            " [343.06 ]\n",
            " [330.93 ]\n",
            " [335.12 ]\n",
            " [333.35 ]\n",
            " [328.2  ]\n",
            " [332.3  ]\n",
            " [329.1  ]\n",
            " [327.17 ]\n",
            " [345.51 ]\n",
            " [341.84 ]\n",
            " [326.63 ]\n",
            " [325.6  ]\n",
            " [321.35 ]\n",
            " [313.56 ]\n",
            " [310.55 ]\n",
            " [316.53 ]\n",
            " [309.1  ]\n",
            " [301.54 ]\n",
            " [304.18 ]\n",
            " [279.18 ]]\n"
          ]
        },
        {
          "output_type": "stream",
          "name": "stderr",
          "text": [
            "/usr/local/lib/python3.7/dist-packages/ipykernel_launcher.py:2: FutureWarning: In a future version of pandas all arguments of DataFrame.drop except for the argument 'labels' will be keyword-only\n",
            "  \n"
          ]
        }
      ]
    },
    {
      "cell_type": "code",
      "source": [
        "# print lr model prediction for the next 'n' days\n",
        "lr_prediction = lr.predict(x_forcast)\n",
        "print(lr_prediction)\n",
        "\n",
        "# print support vector regressor model prediction for the next 'n' days\n",
        "svm_prediction = svr_rbf.predict(x_forcast)\n",
        "print(svm_prediction)\n",
        "\n"
      ],
      "metadata": {
        "colab": {
          "base_uri": "https://localhost:8080/"
        },
        "id": "SVvr2P2-AwHw",
        "outputId": "1682c7c1-d3d2-4120-dfc8-97ea9f27f6f7"
      },
      "execution_count": 90,
      "outputs": [
        {
          "output_type": "stream",
          "name": "stdout",
          "text": [
            "[324.87635122 323.55656186 335.04850547 336.44161645 335.7377288\n",
            " 334.30062483 346.88261668 352.63103253 357.8808613  351.59475349\n",
            " 343.84221305 331.9836613  336.07989641 334.34950592 329.31475394\n",
            " 333.32300309 330.19461351 328.30780354 346.23738633 342.64951453\n",
            " 327.7798878  326.7729374  322.61804499 315.0023716  312.05973015\n",
            " 317.90590818 310.64217862 303.25135824 305.83227964 281.39173604]\n",
            "[362.32743538 356.77722511 334.99037583 354.3156195  348.72910145\n",
            " 321.25817887 326.61393192 343.86665362 343.49442952 327.78748522\n",
            " 335.0178405  346.71947436 352.79131118 321.85988705 347.35637953\n",
            " 322.40589475 350.84130134 346.04638854 327.62582698 317.18482731\n",
            " 346.01219305 348.37085343 345.74743654 352.12567509 325.85253754\n",
            " 327.41847734 332.34195059 343.75684538 326.7418182  241.59998761]\n"
          ]
        }
      ]
    }
  ]
}
