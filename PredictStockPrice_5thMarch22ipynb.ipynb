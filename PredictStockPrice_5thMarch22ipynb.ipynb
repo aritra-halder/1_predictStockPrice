{
  "nbformat": 4,
  "nbformat_minor": 0,
  "metadata": {
    "colab": {
      "name": "PredictStockPrice_5thMarch22ipynb",
      "provenance": [],
      "collapsed_sections": []
    },
    "kernelspec": {
      "name": "python3",
      "display_name": "Python 3"
    },
    "language_info": {
      "name": "python"
    }
  },
  "cells": [
    {
      "cell_type": "code",
      "execution_count": 91,
      "metadata": {
        "id": "QM04Kk3Bikwf"
      },
      "outputs": [],
      "source": [
        "#build a stock prediction program\n",
        "#Aritra Halder 5th March 2022"
      ]
    },
    {
      "cell_type": "code",
      "source": [
        "pip install quandl\n"
      ],
      "metadata": {
        "colab": {
          "base_uri": "https://localhost:8080/"
        },
        "id": "digDIKBsiy5U",
        "outputId": "b8f72386-7b47-4693-b78e-7ba14ac1b225"
      },
      "execution_count": 92,
      "outputs": [
        {
          "output_type": "stream",
          "name": "stdout",
          "text": [
            "Requirement already satisfied: quandl in /usr/local/lib/python3.7/dist-packages (3.7.0)\n",
            "Requirement already satisfied: inflection>=0.3.1 in /usr/local/lib/python3.7/dist-packages (from quandl) (0.5.1)\n",
            "Requirement already satisfied: six in /usr/local/lib/python3.7/dist-packages (from quandl) (1.15.0)\n",
            "Requirement already satisfied: requests>=2.7.0 in /usr/local/lib/python3.7/dist-packages (from quandl) (2.23.0)\n",
            "Requirement already satisfied: numpy>=1.8 in /usr/local/lib/python3.7/dist-packages (from quandl) (1.21.5)\n",
            "Requirement already satisfied: pandas>=0.14 in /usr/local/lib/python3.7/dist-packages (from quandl) (1.3.5)\n",
            "Requirement already satisfied: python-dateutil in /usr/local/lib/python3.7/dist-packages (from quandl) (2.8.2)\n",
            "Requirement already satisfied: more-itertools in /usr/local/lib/python3.7/dist-packages (from quandl) (8.12.0)\n",
            "Requirement already satisfied: pytz>=2017.3 in /usr/local/lib/python3.7/dist-packages (from pandas>=0.14->quandl) (2018.9)\n",
            "Requirement already satisfied: idna<3,>=2.5 in /usr/local/lib/python3.7/dist-packages (from requests>=2.7.0->quandl) (2.10)\n",
            "Requirement already satisfied: certifi>=2017.4.17 in /usr/local/lib/python3.7/dist-packages (from requests>=2.7.0->quandl) (2021.10.8)\n",
            "Requirement already satisfied: chardet<4,>=3.0.2 in /usr/local/lib/python3.7/dist-packages (from requests>=2.7.0->quandl) (3.0.4)\n",
            "Requirement already satisfied: urllib3!=1.25.0,!=1.25.1,<1.26,>=1.21.1 in /usr/local/lib/python3.7/dist-packages (from requests>=2.7.0->quandl) (1.24.3)\n"
          ]
        }
      ]
    },
    {
      "cell_type": "code",
      "source": [
        "#this program prediction stock prices by using ML models\n",
        "#install the dependencies\n",
        "import quandl\n",
        "import numpy as np\n",
        "from sklearn.linear_model import LinearRegression\n",
        "from sklearn.svm import SVR\n",
        "from sklearn.model_selection import train_test_split"
      ],
      "metadata": {
        "id": "26Qsk2sZjUTE"
      },
      "execution_count": 93,
      "outputs": []
    },
    {
      "cell_type": "code",
      "source": [
        "#get the stock DAta\n",
        "df = quandl.get(\"WIKI/TSLA\")\n",
        "#take a look at data\n",
        "print(df.head())"
      ],
      "metadata": {
        "colab": {
          "base_uri": "https://localhost:8080/"
        },
        "id": "IasA_eIEj_zv",
        "outputId": "c900be89-0478-4806-b2aa-6f514e328db3"
      },
      "execution_count": 94,
      "outputs": [
        {
          "output_type": "stream",
          "name": "stdout",
          "text": [
            "             Open     High    Low  Close      Volume  Ex-Dividend  \\\n",
            "Date                                                                \n",
            "2010-06-29  19.00  25.0000  17.54  23.89  18766300.0          0.0   \n",
            "2010-06-30  25.79  30.4192  23.30  23.83  17187100.0          0.0   \n",
            "2010-07-01  25.00  25.9200  20.27  21.96   8218800.0          0.0   \n",
            "2010-07-02  23.00  23.1000  18.71  19.20   5139800.0          0.0   \n",
            "2010-07-06  20.00  20.0000  15.83  16.11   6866900.0          0.0   \n",
            "\n",
            "            Split Ratio  Adj. Open  Adj. High  Adj. Low  Adj. Close  \\\n",
            "Date                                                                  \n",
            "2010-06-29          1.0      19.00    25.0000     17.54       23.89   \n",
            "2010-06-30          1.0      25.79    30.4192     23.30       23.83   \n",
            "2010-07-01          1.0      25.00    25.9200     20.27       21.96   \n",
            "2010-07-02          1.0      23.00    23.1000     18.71       19.20   \n",
            "2010-07-06          1.0      20.00    20.0000     15.83       16.11   \n",
            "\n",
            "            Adj. Volume  \n",
            "Date                     \n",
            "2010-06-29   18766300.0  \n",
            "2010-06-30   17187100.0  \n",
            "2010-07-01    8218800.0  \n",
            "2010-07-02    5139800.0  \n",
            "2010-07-06    6866900.0  \n"
          ]
        }
      ]
    },
    {
      "cell_type": "code",
      "source": [
        ""
      ],
      "metadata": {
        "id": "zPkt956DuTDu"
      },
      "execution_count": 94,
      "outputs": []
    },
    {
      "cell_type": "code",
      "source": [
        "# Get the adjusted Close Price\n",
        "df = df[['Adj. Close']]\n",
        "#take a look at the new data\n",
        "print(df.head())"
      ],
      "metadata": {
        "colab": {
          "base_uri": "https://localhost:8080/"
        },
        "id": "itL4Q5N-kpbq",
        "outputId": "8db96df5-cafa-4f41-c4f9-324cf996c116"
      },
      "execution_count": 95,
      "outputs": [
        {
          "output_type": "stream",
          "name": "stdout",
          "text": [
            "            Adj. Close\n",
            "Date                  \n",
            "2010-06-29       23.89\n",
            "2010-06-30       23.83\n",
            "2010-07-01       21.96\n",
            "2010-07-02       19.20\n",
            "2010-07-06       16.11\n"
          ]
        }
      ]
    },
    {
      "cell_type": "code",
      "source": [
        "#A varible for predicting 'n' days out into future\n",
        "forcast_out = 30\n",
        "# Create another coloum(target or dependent variable) shifted 'n' units up\n",
        "df['Prediction'] = df[['Adj. Close']].shift(-forcast_out)\n",
        "#print new data set\n",
        "print(df.tail())"
      ],
      "metadata": {
        "colab": {
          "base_uri": "https://localhost:8080/"
        },
        "id": "_DtX6IgJrOzB",
        "outputId": "346fe42f-2137-4abe-f7df-7106210240df"
      },
      "execution_count": 96,
      "outputs": [
        {
          "output_type": "stream",
          "name": "stdout",
          "text": [
            "            Adj. Close  Prediction\n",
            "Date                              \n",
            "2018-03-21      316.53         NaN\n",
            "2018-03-22      309.10         NaN\n",
            "2018-03-23      301.54         NaN\n",
            "2018-03-26      304.18         NaN\n",
            "2018-03-27      279.18         NaN\n"
          ]
        }
      ]
    },
    {
      "cell_type": "code",
      "source": [
        "### Crete the independent data set (X) ####3\n",
        "# Convert the dat frame to a numpy array\n",
        "X = np.array(df.drop(['Prediction'],1))\n",
        "#Remove the last 'n' rows \n",
        "X = X[:-forcast_out]\n",
        "print(X)"
      ],
      "metadata": {
        "colab": {
          "base_uri": "https://localhost:8080/"
        },
        "id": "8qYzzGfouUSr",
        "outputId": "ca77c491-e214-45ca-ee56-eabea5cfa748"
      },
      "execution_count": 97,
      "outputs": [
        {
          "output_type": "stream",
          "name": "stdout",
          "text": [
            "[[ 23.89]\n",
            " [ 23.83]\n",
            " [ 21.96]\n",
            " ...\n",
            " [315.36]\n",
            " [310.11]\n",
            " [315.73]]\n"
          ]
        },
        {
          "output_type": "stream",
          "name": "stderr",
          "text": [
            "/usr/local/lib/python3.7/dist-packages/ipykernel_launcher.py:3: FutureWarning: In a future version of pandas all arguments of DataFrame.drop except for the argument 'labels' will be keyword-only\n",
            "  This is separate from the ipykernel package so we can avoid doing imports until\n"
          ]
        }
      ]
    },
    {
      "cell_type": "code",
      "source": [
        "#create the dependent data set(y)  ####\n",
        "# covert the dataframe to a numpy array(All of the values including the Nan's)\n",
        "y = np.array(df['Prediction']) \n",
        "#get allof the y values except the last 'n' rows\n",
        "y = y[:-forcast_out]\n",
        "print(y)"
      ],
      "metadata": {
        "colab": {
          "base_uri": "https://localhost:8080/"
        },
        "id": "Z35hOv85ygG6",
        "outputId": "a77037dc-b724-4157-d5f9-31c4ca662df5"
      },
      "execution_count": 98,
      "outputs": [
        {
          "output_type": "stream",
          "name": "stdout",
          "text": [
            "[ 17.9   17.6   18.32 ... 301.54 304.18 279.18]\n"
          ]
        }
      ]
    },
    {
      "cell_type": "code",
      "source": [
        "#split the data into 80% traning and 20% traning\n",
        "x_train, x_test, y_train, y_test = train_test_split(X,y, test_size=0.2)"
      ],
      "metadata": {
        "id": "PoGh2Nvu2yKY"
      },
      "execution_count": 99,
      "outputs": []
    },
    {
      "cell_type": "code",
      "source": [
        "#create and train our model : support vector machinr(regressor)\n",
        "svr_rbf = SVR(kernel='rbf', C=1e3, gamma=0.1)\n",
        "svr_rbf.fit(x_train, y_train)"
      ],
      "metadata": {
        "colab": {
          "base_uri": "https://localhost:8080/"
        },
        "id": "XEa4zrm83a-6",
        "outputId": "0a9c3436-2c33-4a85-b042-d3827581b609"
      },
      "execution_count": 100,
      "outputs": [
        {
          "output_type": "execute_result",
          "data": {
            "text/plain": [
              "SVR(C=1000.0, gamma=0.1)"
            ]
          },
          "metadata": {},
          "execution_count": 100
        }
      ]
    },
    {
      "cell_type": "code",
      "source": [
        "#testing model: Score return thr coefficient of determinatin R^2 of tehthe prediction.\n",
        "# best possible score id 1.0\n",
        "svm_confidence = svr_rbf.score(x_test, y_test) \n",
        "print(\"svm confidence: \", svm_confidence)"
      ],
      "metadata": {
        "colab": {
          "base_uri": "https://localhost:8080/"
        },
        "id": "tUDrCMCu4_LX",
        "outputId": "c7ec2476-4191-45fa-c95e-2a90df00b635"
      },
      "execution_count": 101,
      "outputs": [
        {
          "output_type": "stream",
          "name": "stdout",
          "text": [
            "svm confidence:  0.9548182344807764\n"
          ]
        }
      ]
    },
    {
      "cell_type": "code",
      "source": [
        "#Create and train the Linear Regression Mode\n",
        "lr = LinearRegression()\n",
        "#train the model\n",
        "lr.fit(x_train, y_train)"
      ],
      "metadata": {
        "colab": {
          "base_uri": "https://localhost:8080/"
        },
        "id": "wsJDUn6_5_qs",
        "outputId": "98224d21-50c7-42dd-f505-4583d10fe036"
      },
      "execution_count": 102,
      "outputs": [
        {
          "output_type": "execute_result",
          "data": {
            "text/plain": [
              "LinearRegression()"
            ]
          },
          "metadata": {},
          "execution_count": 102
        }
      ]
    },
    {
      "cell_type": "code",
      "source": [
        "#testing model: Score return thr coefficient of determinatin R^2 of tehthe prediction.\n",
        "# best possible score id 1.0\n",
        "lr_confidence = lr.score(x_test, y_test) \n",
        "print(\"lr confidence: \", lr_confidence)"
      ],
      "metadata": {
        "colab": {
          "base_uri": "https://localhost:8080/"
        },
        "id": "Rb0lJi0H_xzb",
        "outputId": "c41a5f88-14e9-4bcd-cdac-78a971f27fca"
      },
      "execution_count": 103,
      "outputs": [
        {
          "output_type": "stream",
          "name": "stdout",
          "text": [
            "lr confidence:  0.942324514666013\n"
          ]
        }
      ]
    },
    {
      "cell_type": "code",
      "source": [
        "# set x_forcast equal to last 30 rows of the original data set from Adj. Close column\n",
        "x_forcast = np.array(df.drop(['Prediction'],1))[-forcast_out:]\n",
        "print(x_forcast)"
      ],
      "metadata": {
        "colab": {
          "base_uri": "https://localhost:8080/"
        },
        "id": "mxYKjG_BABBl",
        "outputId": "6309dc68-d8bf-4df0-9476-80c60254da29"
      },
      "execution_count": 104,
      "outputs": [
        {
          "output_type": "stream",
          "name": "stdout",
          "text": [
            "[[323.66 ]\n",
            " [322.31 ]\n",
            " [334.065]\n",
            " [335.49 ]\n",
            " [334.77 ]\n",
            " [333.3  ]\n",
            " [346.17 ]\n",
            " [352.05 ]\n",
            " [357.42 ]\n",
            " [350.99 ]\n",
            " [343.06 ]\n",
            " [330.93 ]\n",
            " [335.12 ]\n",
            " [333.35 ]\n",
            " [328.2  ]\n",
            " [332.3  ]\n",
            " [329.1  ]\n",
            " [327.17 ]\n",
            " [345.51 ]\n",
            " [341.84 ]\n",
            " [326.63 ]\n",
            " [325.6  ]\n",
            " [321.35 ]\n",
            " [313.56 ]\n",
            " [310.55 ]\n",
            " [316.53 ]\n",
            " [309.1  ]\n",
            " [301.54 ]\n",
            " [304.18 ]\n",
            " [279.18 ]]\n"
          ]
        },
        {
          "output_type": "stream",
          "name": "stderr",
          "text": [
            "/usr/local/lib/python3.7/dist-packages/ipykernel_launcher.py:2: FutureWarning: In a future version of pandas all arguments of DataFrame.drop except for the argument 'labels' will be keyword-only\n",
            "  \n"
          ]
        }
      ]
    },
    {
      "cell_type": "code",
      "source": [
        "# print lr model prediction for the next 'n' days\n",
        "lr_prediction = lr.predict(x_forcast)\n",
        "print(lr_prediction)\n",
        "\n",
        "# print support vector regressor model prediction for the next 'n' days\n",
        "svm_prediction = svr_rbf.predict(x_forcast)\n",
        "print(svm_prediction)\n",
        "\n"
      ],
      "metadata": {
        "colab": {
          "base_uri": "https://localhost:8080/"
        },
        "id": "SVvr2P2-AwHw",
        "outputId": "538eff42-5963-4dc9-da2d-4d7f3b196584"
      },
      "execution_count": 105,
      "outputs": [
        {
          "output_type": "stream",
          "name": "stdout",
          "text": [
            "[324.08500398 322.76906409 334.22748881 335.61653647 334.91470186\n",
            " 333.48178954 346.02708313 351.75873241 356.99324885 350.72547591\n",
            " 342.99554754 331.17158396 335.25587146 333.53052805 328.51046108\n",
            " 332.50701925 329.38775434 327.50644768 345.38373474 341.80632779\n",
            " 326.98007173 325.97605833 321.83328462 314.23982409 311.30576552\n",
            " 317.13489184 309.89234861 302.52308524 305.0964788  280.72722164]\n",
            "[374.71116775 367.82682826 339.32411766 341.07432757 344.59997183\n",
            " 329.28301663 328.18409823 343.27835434 344.91708073 328.97341043\n",
            " 346.15026465 345.9047651  343.88090653 329.84071106 349.7526356\n",
            " 327.44605236 352.0431714  344.04707766 326.44668578 333.13039606\n",
            " 340.23311001 340.27128042 347.40518685 351.95474808 325.01202289\n",
            " 326.79072081 338.63236229 334.40740743 326.89959084 235.57105194]\n"
          ]
        }
      ]
    }
  ]
}